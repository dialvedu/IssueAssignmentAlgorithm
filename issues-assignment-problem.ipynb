{
 "cells": [
  {
   "cell_type": "markdown",
   "id": "98338544",
   "metadata": {
    "papermill": {
     "duration": 0.002828,
     "end_time": "2023-06-08T13:43:09.363749",
     "exception": false,
     "start_time": "2023-06-08T13:43:09.360921",
     "status": "completed"
    },
    "tags": []
   },
   "source": [
    "# Issues assignment algorithm"
   ]
  },
  {
   "cell_type": "code",
   "execution_count": 1,
   "id": "b0b37cff",
   "metadata": {
    "execution": {
     "iopub.execute_input": "2023-06-08T13:43:09.371446Z",
     "iopub.status.busy": "2023-06-08T13:43:09.370980Z",
     "iopub.status.idle": "2023-06-08T13:43:09.388889Z",
     "shell.execute_reply": "2023-06-08T13:43:09.387759Z"
    },
    "papermill": {
     "duration": 0.02465,
     "end_time": "2023-06-08T13:43:09.391545",
     "exception": false,
     "start_time": "2023-06-08T13:43:09.366895",
     "status": "completed"
    },
    "tags": []
   },
   "outputs": [],
   "source": [
    "import numpy as np\n",
    "\n",
    "# Example usage:\n",
    "workers = [(50, -1), (70, 0), (80, -1), (90, -1), (60, 2), (70, 1)]  # Example list of worker capacities\n",
    "issues = [(1000, 2), (500, 0), (2000, 1)]  # Example list of company issues\n",
    "\n",
    "def assign_issues(workers, issues):\n",
    "    num_workers = len(workers)\n",
    "\n",
    "    assignment_matrix = [[] for _ in range(num_workers)]\n",
    "    \n",
    "    sorted_workers = sorted(range(num_workers), key=lambda x: workers[x][1], reverse=False)\n",
    "    sorted_issues = sorted(issues, key=lambda x: x[1], reverse=False)\n",
    "    \n",
    "    remaining_issues = list(sorted_issues)\n",
    "    for i, _ in enumerate(remaining_issues):\n",
    "        issue = remaining_issues[i][0]\n",
    "        while issue > 0:\n",
    "            for worker in sorted_workers:\n",
    "                issues_assigned = min(workers[worker][0], issue)\n",
    "                assignment_matrix[worker].append((issues_assigned, i))\n",
    "                issue -= issues_assigned\n",
    "                \n",
    "    return assignment_matrix\n",
    "\n",
    "assignment_matrix = assign_issues(workers, issues)"
   ]
  },
  {
   "cell_type": "code",
   "execution_count": 2,
   "id": "75d7f24e",
   "metadata": {
    "execution": {
     "iopub.execute_input": "2023-06-08T13:43:09.397584Z",
     "iopub.status.busy": "2023-06-08T13:43:09.397192Z",
     "iopub.status.idle": "2023-06-08T13:43:09.404935Z",
     "shell.execute_reply": "2023-06-08T13:43:09.403734Z"
    },
    "papermill": {
     "duration": 0.014241,
     "end_time": "2023-06-08T13:43:09.408054",
     "exception": false,
     "start_time": "2023-06-08T13:43:09.393813",
     "status": "completed"
    },
    "tags": []
   },
   "outputs": [
    {
     "name": "stdout",
     "output_type": "stream",
     "text": [
      "[(50, 0), (50, 0), (50, 1), (50, 1), (50, 1), (50, 1), (50, 1), (50, 2), (50, 2), (50, 2)]\n",
      "[(70, 0), (0, 0), (70, 1), (70, 1), (70, 1), (70, 1), (70, 1), (70, 2), (70, 2), (0, 2)]\n",
      "[(80, 0), (30, 0), (80, 1), (80, 1), (80, 1), (80, 1), (80, 1), (80, 2), (80, 2), (80, 2)]\n",
      "[(90, 0), (0, 0), (90, 1), (90, 1), (90, 1), (90, 1), (90, 1), (90, 2), (90, 2), (30, 2)]\n",
      "[(60, 0), (0, 0), (60, 1), (60, 1), (60, 1), (60, 1), (0, 1), (60, 2), (60, 2), (0, 2)]\n",
      "[(70, 0), (0, 0), (70, 1), (70, 1), (70, 1), (70, 1), (30, 1), (70, 2), (70, 2), (0, 2)]\n",
      "10 10\n",
      "6\n"
     ]
    }
   ],
   "source": [
    "lengths = []\n",
    "for n in range(len(assignment_matrix)):\n",
    "    print(assignment_matrix[n])\n",
    "    lengths.append(len(assignment_matrix[n]))\n",
    "    \n",
    "print(max(lengths), min(lengths))\n",
    "print(len(assignment_matrix))"
   ]
  }
 ],
 "metadata": {
  "kernelspec": {
   "display_name": "Python 3",
   "language": "python",
   "name": "python3"
  },
  "language_info": {
   "codemirror_mode": {
    "name": "ipython",
    "version": 3
   },
   "file_extension": ".py",
   "mimetype": "text/x-python",
   "name": "python",
   "nbconvert_exporter": "python",
   "pygments_lexer": "ipython3",
   "version": "3.10.10"
  },
  "papermill": {
   "default_parameters": {},
   "duration": 17.312319,
   "end_time": "2023-06-08T13:43:10.334440",
   "environment_variables": {},
   "exception": null,
   "input_path": "__notebook__.ipynb",
   "output_path": "__notebook__.ipynb",
   "parameters": {},
   "start_time": "2023-06-08T13:42:53.022121",
   "version": "2.4.0"
  }
 },
 "nbformat": 4,
 "nbformat_minor": 5
}
